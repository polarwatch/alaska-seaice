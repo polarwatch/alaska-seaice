{
 "cells": [
  {
   "cell_type": "markdown",
   "id": "51a2d02a",
   "metadata": {},
   "source": [
    "## check recent year values"
   ]
  },
  {
   "cell_type": "code",
   "execution_count": 1,
   "id": "82ed2764",
   "metadata": {},
   "outputs": [],
   "source": [
    "import os, sys\n",
    "import geopandas as gpd\n",
    "import datetime\n",
    "import matplotlib.pyplot as plt\n",
    "from pw_data import SIC25k"
   ]
  },
  {
   "cell_type": "code",
   "execution_count": 2,
   "id": "8b26a364",
   "metadata": {},
   "outputs": [],
   "source": [
    "\n",
    "# Define constants\n",
    "CRS = 'epsg:3413'  # Polar Stereographic North projection\n",
    "NRT_DAILY_ID = 'nsidcG10016v3nh1day'  # Dataset ID for near real-time sea ice data\n",
    "VAR_NAME = 'cdr_seaice_conc'  # Variable name for sea ice concentration\n",
    "GRID_CELL_AREA_ID = 'pstere_gridcell_N25k'  # Grid cell area ID for sea ice extent calculations\n",
    "\n",
    "# Define regions and corresponding shapefiles\n",
    "REGIONS = dict([('AlaskanArctic', 'arctic_sf.shp')])\n",
    "                # ,\n",
    "                # ('NorthernBering', 'nbering_sf.shp'),\n",
    "                # ('EasternBering', 'ebering_sf.shp'),\n",
    "                # ('SoutheasternBering', 'se_bering_sf.shp')])"
   ]
  },
  {
   "cell_type": "code",
   "execution_count": 3,
   "id": "6b329230",
   "metadata": {},
   "outputs": [
    {
     "name": "stdout",
     "output_type": "stream",
     "text": [
      "Unable to load data: 'NoneType' object is not subscriptable\n"
     ]
    }
   ],
   "source": [
    "# Instantiate SIC25k object and load grid area data\n",
    "sic_m = SIC25k(NRT_DAILY_ID, VAR_NAME, CRS)\n"
   ]
  },
  {
   "cell_type": "code",
   "execution_count": 4,
   "id": "2102c16b",
   "metadata": {},
   "outputs": [],
   "source": [
    "sic_m.load_area(GRID_CELL_AREA_ID)  "
   ]
  },
  {
   "cell_type": "code",
   "execution_count": 5,
   "id": "993ecccb",
   "metadata": {},
   "outputs": [],
   "source": [
    "# If the current month is September (9) or later, use the current year, otherwise use the previous year.\n",
    "today = datetime.date.today()\n",
    "lastyear = today.year if today.month > 8 else today.year - 1"
   ]
  },
  {
   "cell_type": "code",
   "execution_count": 6,
   "id": "fa6a4e67",
   "metadata": {},
   "outputs": [
    {
     "data": {
      "text/plain": [
       "2024"
      ]
     },
     "execution_count": 6,
     "metadata": {},
     "output_type": "execute_result"
    }
   ],
   "source": [
    "lastyear\n"
   ]
  },
  {
   "cell_type": "code",
   "execution_count": null,
   "id": "4892c801",
   "metadata": {},
   "outputs": [
    {
     "name": "stdout",
     "output_type": "stream",
     "text": [
      "Processing AlaskanArctic region...\n",
      "<xarray.DataArray 'seaice_extent' (time: 358, ygrid: 56, xgrid: 33)> Size: 5MB\n",
      "dask.array<getitem, shape=(358, 56, 33), dtype=float64, chunksize=(1, 56, 33), chunktype=numpy.ndarray>\n",
      "Coordinates:\n",
      "  * time         (time) datetime64[ns] 3kB 2024-07-01 2024-07-02 ... 2025-06-23\n",
      "    spatial_ref  int64 8B 0\n",
      "  * ygrid        (ygrid) float64 448B 1.462e+06 1.438e+06 ... 1.125e+05 8.75e+04\n",
      "  * xgrid        (xgrid) float64 264B -2.338e+06 -2.312e+06 ... -1.538e+06\n",
      "date\n",
      "2024-07-01    1848\n",
      "2025-02-10    1848\n",
      "2025-03-02    1848\n",
      "2025-03-01    1848\n",
      "2025-02-28    1848\n",
      "              ... \n",
      "2024-10-26    1848\n",
      "2024-10-25    1848\n",
      "2024-10-24    1848\n",
      "2024-10-23    1848\n",
      "2025-06-23    1848\n",
      "Name: count, Length: 358, dtype: int64\n"
     ]
    }
   ],
   "source": [
    "\n",
    "\n",
    "\n",
    "# Loop over each region and its corresponding shapefile\n",
    "for name, shp in REGIONS.items():\n",
    "    print(f'Processing {name} region...')\n",
    "    # Load the shapefile and project it to the dataset's CRS\n",
    "    alaska_shp = gpd.read_file(f'resources/akmarineeco/{shp}')\n",
    "    alaska_shp_proj = alaska_shp.to_crs(CRS)\n",
    "\n",
    "    # Subset the dataset by time and region (ex: 2023-09-01 to 2025-08-31)\n",
    "    ds, area = sic_m.subset_dim([f'{lastyear-1}-09-01', f'{lastyear+1}-12-31'], alaska_shp_proj)\n",
    "\n",
    "    # Format sea ice concentration data to binary using a 0.15 threshold\n",
    "    sic = sic_m.format_sic(ds, 0.15)\n",
    "\n",
    "    # Compute sea ice extent in square kilometers\n",
    "    ext = sic_m.compute_extent_km(sic, area)\n",
    "    \n",
    "    # Clean up memory to avoid excessive usage\n",
    "    del alaska_shp, alaska_shp_proj, ds, sic \n",
    "\n",
    "    # Convert xarray object to a dataframe, reformat, and save as CSV\n",
    "    ext_df = (ext\n",
    "                .to_dataframe()\n",
    "                .reset_index()\n",
    "                .drop(['spatial_ref'], axis='columns')\n",
    "                .rename(columns={'time': 'date'}))\n",
    " \n",
    "    ext_df.to_csv(f'nrt_extent_{name}.csv', index=False)  "
   ]
  }
 ],
 "metadata": {
  "kernelspec": {
   "display_name": "seaice",
   "language": "python",
   "name": "seaice"
  },
  "language_info": {
   "codemirror_mode": {
    "name": "ipython",
    "version": 3
   },
   "file_extension": ".py",
   "mimetype": "text/x-python",
   "name": "python",
   "nbconvert_exporter": "python",
   "pygments_lexer": "ipython3",
   "version": "3.9.19"
  }
 },
 "nbformat": 4,
 "nbformat_minor": 5
}
