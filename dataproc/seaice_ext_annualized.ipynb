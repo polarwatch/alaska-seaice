{
 "cells": [
  {
   "cell_type": "markdown",
   "metadata": {},
   "source": [
    "## Notebook for computing annual average for sea ice extent\n",
    "\n",
    "This notebook is intended to run annualized_timeseries.py in the notebook format for better readibility.  \n",
    "For the most updated code to compute annual average for each region, please refer to annualized_timeseries.py.\n"
   ]
  },
  {
   "cell_type": "code",
   "execution_count": 1,
   "metadata": {},
   "outputs": [],
   "source": [
    "\n",
    "from pw_data import SIC25k\n",
    "import numpy as np\n",
    "import pandas as pd\n",
    "import geopandas as gpd\n",
    "from dask.distributed import Client, LocalCluster"
   ]
  },
  {
   "cell_type": "code",
   "execution_count": 2,
   "metadata": {},
   "outputs": [
    {
     "name": "stdout",
     "output_type": "stream",
     "text": [
      "Dashboard is running on: http://127.0.0.1:8787/status\n"
     ]
    },
    {
     "name": "stderr",
     "output_type": "stream",
     "text": [
      "/Users/sunbak/miniforge3/envs/seaice/lib/python3.9/site-packages/xarray/conventions.py:286: SerializationWarning: variable 'melt_onset_day_cdr_seaice_conc' has multiple fill values {-1, 255} defined, decoding all values to NaN.\n",
      "  var = coder.decode(var, name=name)\n"
     ]
    },
    {
     "name": "stdout",
     "output_type": "stream",
     "text": [
      "Unable to load data: 'NoneType' object is not subscriptable\n"
     ]
    },
    {
     "name": "stderr",
     "output_type": "stream",
     "text": [
      "/Users/sunbak/miniforge3/envs/seaice/lib/python3.9/site-packages/xarray/conventions.py:286: SerializationWarning: variable 'melt_onset_day_cdr_seaice_conc' has multiple fill values {-1, 255} defined, decoding all values to NaN.\n",
      "  var = coder.decode(var, name=name)\n"
     ]
    }
   ],
   "source": [
    "\n",
    "\"\"\"This code loads data and computes annualized time series \n",
    "sea ice extent and exports them in csv format\n",
    "For data information, https://polarwatch.noaa.gov/erddap/info/nsidcG10016v2nhmday/index.html\n",
    "monthly: 'nsidcG02202v4nhmday' (cdr_seaice_conc_monthly)\n",
    "daily: nsidcG02202v4nh1day (cdr_seaice_conc)\n",
    "\"\"\"\n",
    "\n",
    "\n",
    "cluster = LocalCluster(n_workers=4, threads_per_worker=2)\n",
    "client = Client(cluster)\n",
    "print(f\"Dashboard is running on: {client.dashboard_link}\")\n",
    "\n",
    "# monthly\n",
    "erddap_id = 'nsidcG02202v4nh1day' \n",
    "area_id = 'pstere_gridcell_N25k'\n",
    "crs = 'epsg:3413'\n",
    "var_name = 'cdr_seaice_conc'\n",
    "\n",
    "regions = dict([('AlaskanArctic', 'arctic_sf.shp'), ('NorthernBering', 'nbering_sf.shp'), \n",
    "            ('EasternBering', 'ebering_sf.shp')]) #, ('SouthernBering', 'sbering_sf.shp')])\n",
    "# regions = dict([('AlaskanArctic', 'arctic_sf.shp')])\n",
    "\n",
    "# Instantiate SIC25k instance and load sic and grid data            \n",
    "sic_m = SIC25k(erddap_id, var_name, crs)\n",
    "sic_m.load_area(area_id)\n",
    "\n",
    "\n",
    "for name, shp in regions.items(): \n",
    "    # Load shape geometry and transform\n",
    "    alaska_shp = gpd.read_file(f'resources/akmarineeco/{shp}')\n",
    "    alaska_shp_proj = alaska_shp.to_crs(crs)  \n",
    "    extents = []\n",
    "    # Sep 1-Aug 31\n",
    "    for year in range(1995, 2010):\n",
    "        # clip to region and date\n",
    "        ds, area = sic_m.subset_dim([f'{year}-09-01', f'{year+1}-08-31'], alaska_shp_proj)\n",
    "        sic = sic_m.format_sic(ds, 0.15) # format data with threshold <= 0.15\n",
    "        ext = sic_m.compute_extent_km(sic, area)\n",
    "        extents.append({'region': name, 'year': year, 'extent': np.mean(ext.values)})\n",
    "    df = pd.DataFrame(extents)\n",
    "    df.to_csv(f'{name}_annual_extent_2010_today.csv', index=False)\n",
    "\n",
    "\n"
   ]
  }
 ],
 "metadata": {
  "kernelspec": {
   "display_name": "seaice",
   "language": "python",
   "name": "python3"
  },
  "language_info": {
   "codemirror_mode": {
    "name": "ipython",
    "version": 3
   },
   "file_extension": ".py",
   "mimetype": "text/x-python",
   "name": "python",
   "nbconvert_exporter": "python",
   "pygments_lexer": "ipython3",
   "version": "3.9.19"
  }
 },
 "nbformat": 4,
 "nbformat_minor": 2
}
